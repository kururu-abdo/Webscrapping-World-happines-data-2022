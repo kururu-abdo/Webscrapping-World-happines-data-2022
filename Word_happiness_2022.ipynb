{
 "cells": [
  {
   "cell_type": "code",
   "execution_count": 1,
   "id": "152c5c1a-9e13-461c-ab45-5882f48c3362",
   "metadata": {
    "tags": []
   },
   "outputs": [
    {
     "name": "stdout",
     "output_type": "stream",
     "text": [
      "Requirement already satisfied: pandas in /home/jupyterlab/conda/envs/python/lib/python3.7/site-packages (1.3.5)\n",
      "Requirement already satisfied: python-dateutil>=2.7.3 in /home/jupyterlab/conda/envs/python/lib/python3.7/site-packages (from pandas) (2.8.2)\n",
      "Requirement already satisfied: pytz>=2017.3 in /home/jupyterlab/conda/envs/python/lib/python3.7/site-packages (from pandas) (2023.3)\n",
      "Requirement already satisfied: numpy>=1.17.3 in /home/jupyterlab/conda/envs/python/lib/python3.7/site-packages (from pandas) (1.21.6)\n",
      "Requirement already satisfied: six>=1.5 in /home/jupyterlab/conda/envs/python/lib/python3.7/site-packages (from python-dateutil>=2.7.3->pandas) (1.16.0)\n",
      "Note: you may need to restart the kernel to use updated packages.\n"
     ]
    }
   ],
   "source": [
    "pip install pandas"
   ]
  },
  {
   "cell_type": "code",
   "execution_count": 3,
   "id": "f16aa631-52d6-4179-ae67-1a5e278d8214",
   "metadata": {
    "tags": []
   },
   "outputs": [
    {
     "name": "stdout",
     "output_type": "stream",
     "text": [
      "Collecting bs4\n",
      "  Downloading bs4-0.0.1.tar.gz (1.1 kB)\n",
      "  Preparing metadata (setup.py) ... \u001b[?25ldone\n",
      "\u001b[?25hRequirement already satisfied: beautifulsoup4 in /home/jupyterlab/conda/envs/python/lib/python3.7/site-packages (from bs4) (4.11.1)\n",
      "Requirement already satisfied: soupsieve>1.2 in /home/jupyterlab/conda/envs/python/lib/python3.7/site-packages (from beautifulsoup4->bs4) (2.3.2.post1)\n",
      "Building wheels for collected packages: bs4\n",
      "  Building wheel for bs4 (setup.py) ... \u001b[?25ldone\n",
      "\u001b[?25h  Created wheel for bs4: filename=bs4-0.0.1-py3-none-any.whl size=1257 sha256=7dc0ae4b9e6a261853cb8fd10fa0f4f8b99f5126937f8f24fa8eb3c59ab4335e\n",
      "  Stored in directory: /home/jupyterlab/.cache/pip/wheels/0a/9e/ba/20e5bbc1afef3a491f0b3bb74d508f99403aabe76eda2167ca\n",
      "Successfully built bs4\n",
      "Installing collected packages: bs4\n",
      "Successfully installed bs4-0.0.1\n",
      "Note: you may need to restart the kernel to use updated packages.\n"
     ]
    }
   ],
   "source": [
    "pip install bs4"
   ]
  },
  {
   "cell_type": "code",
   "execution_count": 2,
   "id": "ed5b0842-c800-4198-ab60-ffd4bb104886",
   "metadata": {
    "tags": []
   },
   "outputs": [],
   "source": [
    "import pandas as pd\n",
    "from bs4 import BeautifulSoup\n",
    "import requests"
   ]
  },
  {
   "cell_type": "code",
   "execution_count": 3,
   "id": "f76d979a-97b3-464d-ad3e-43b113c92e63",
   "metadata": {
    "tags": []
   },
   "outputs": [],
   "source": [
    "data = requests.get(\"https://www.theglobaleconomy.com/rankings/happiness/\").text"
   ]
  },
  {
   "cell_type": "code",
   "execution_count": 4,
   "id": "592c82ab-5904-4492-9318-ae250df419b7",
   "metadata": {
    "tags": []
   },
   "outputs": [],
   "source": [
    "soup =  BeautifulSoup(data , \"html.parser\")"
   ]
  },
  {
   "cell_type": "code",
   "execution_count": 5,
   "id": "44cb99df-d1dd-420f-ab09-8adaf6564ff5",
   "metadata": {
    "tags": []
   },
   "outputs": [
    {
     "data": {
      "text/plain": [
       "'Happiness index by country, around the world | TheGlobalEconomy.com'"
      ]
     },
     "execution_count": 5,
     "metadata": {},
     "output_type": "execute_result"
    }
   ],
   "source": [
    "#print page title\n",
    "\n",
    "soup.title.text"
   ]
  },
  {
   "cell_type": "code",
   "execution_count": 6,
   "id": "190ab53a-82d4-4ac0-9c6b-9dc935e5b9ed",
   "metadata": {
    "tags": []
   },
   "outputs": [
    {
     "name": "stdout",
     "output_type": "stream",
     "text": [
      "Requirement already satisfied: html5lib in /home/jupyterlab/conda/envs/python/lib/python3.7/site-packages (1.1)\n",
      "Requirement already satisfied: six>=1.9 in /home/jupyterlab/conda/envs/python/lib/python3.7/site-packages (from html5lib) (1.16.0)\n",
      "Requirement already satisfied: webencodings in /home/jupyterlab/conda/envs/python/lib/python3.7/site-packages (from html5lib) (0.5.1)\n",
      "Note: you may need to restart the kernel to use updated packages.\n"
     ]
    }
   ],
   "source": [
    "pip install html5lib"
   ]
  },
  {
   "cell_type": "code",
   "execution_count": 8,
   "id": "2c6c23b5-d6a7-4a93-98b1-bbe65a35757c",
   "metadata": {
    "tags": []
   },
   "outputs": [
    {
     "data": {
      "text/plain": [
       "Index(['Countries', 'Happiness index, 2022', 'Global rank', 'Available data'], dtype='object')"
      ]
     },
     "execution_count": 8,
     "metadata": {},
     "output_type": "execute_result"
    }
   ],
   "source": [
    "\n",
    "happines_data =  soup.find_all('table')  #by tag name\n",
    "\n",
    "happines_data =  soup.find_all(id='benchmarkTable')  #  by table element id\n",
    "   \n",
    "#get table head    \n",
    "df=pd.read_html(str(happines_data), flavor='bs4')[0]\n",
    "    \n",
    "  "
   ]
  },
  {
   "cell_type": "code",
   "execution_count": 10,
   "id": "be6b898e-6cc6-45cb-83ef-5a566c210f35",
   "metadata": {
    "tags": []
   },
   "outputs": [],
   "source": [
    "#set Country As Index\n",
    "df.set_index('Countries' , inplace=True)"
   ]
  },
  {
   "cell_type": "code",
   "execution_count": 11,
   "id": "bf74ebf0-fd5a-4406-881b-78b282d2728d",
   "metadata": {
    "tags": []
   },
   "outputs": [],
   "source": [
    "#change Column Happines Index  to Happines_index\n",
    "df.rename(columns ={\"Happiness index, 2022\":\"Happines_index\"} ,inplace=True)"
   ]
  },
  {
   "cell_type": "code",
   "execution_count": 12,
   "id": "57f74fab-a992-4ba8-8fce-bc427b763b9a",
   "metadata": {
    "tags": []
   },
   "outputs": [
    {
     "data": {
      "text/html": [
       "<div>\n",
       "<style scoped>\n",
       "    .dataframe tbody tr th:only-of-type {\n",
       "        vertical-align: middle;\n",
       "    }\n",
       "\n",
       "    .dataframe tbody tr th {\n",
       "        vertical-align: top;\n",
       "    }\n",
       "\n",
       "    .dataframe thead th {\n",
       "        text-align: right;\n",
       "    }\n",
       "</style>\n",
       "<table border=\"1\" class=\"dataframe\">\n",
       "  <thead>\n",
       "    <tr style=\"text-align: right;\">\n",
       "      <th></th>\n",
       "      <th>Happines_index</th>\n",
       "      <th>Global rank</th>\n",
       "      <th>Available data</th>\n",
       "    </tr>\n",
       "    <tr>\n",
       "      <th>Countries</th>\n",
       "      <th></th>\n",
       "      <th></th>\n",
       "      <th></th>\n",
       "    </tr>\n",
       "  </thead>\n",
       "  <tbody>\n",
       "    <tr>\n",
       "      <th>Finland</th>\n",
       "      <td>7.80</td>\n",
       "      <td>1</td>\n",
       "      <td>2013 - 2022</td>\n",
       "    </tr>\n",
       "    <tr>\n",
       "      <th>Denmark</th>\n",
       "      <td>7.59</td>\n",
       "      <td>2</td>\n",
       "      <td>2013 - 2022</td>\n",
       "    </tr>\n",
       "    <tr>\n",
       "      <th>Iceland</th>\n",
       "      <td>7.53</td>\n",
       "      <td>3</td>\n",
       "      <td>2013 - 2022</td>\n",
       "    </tr>\n",
       "    <tr>\n",
       "      <th>Israel</th>\n",
       "      <td>7.47</td>\n",
       "      <td>4</td>\n",
       "      <td>2013 - 2022</td>\n",
       "    </tr>\n",
       "    <tr>\n",
       "      <th>Netherlands</th>\n",
       "      <td>7.40</td>\n",
       "      <td>5</td>\n",
       "      <td>2013 - 2022</td>\n",
       "    </tr>\n",
       "    <tr>\n",
       "      <th>...</th>\n",
       "      <td>...</td>\n",
       "      <td>...</td>\n",
       "      <td>...</td>\n",
       "    </tr>\n",
       "    <tr>\n",
       "      <th>DR Congo</th>\n",
       "      <td>3.21</td>\n",
       "      <td>130</td>\n",
       "      <td>2017 - 2022</td>\n",
       "    </tr>\n",
       "    <tr>\n",
       "      <th>Zimbabwe</th>\n",
       "      <td>3.20</td>\n",
       "      <td>131</td>\n",
       "      <td>2013 - 2022</td>\n",
       "    </tr>\n",
       "    <tr>\n",
       "      <th>Sierra Leone</th>\n",
       "      <td>3.14</td>\n",
       "      <td>132</td>\n",
       "      <td>2013 - 2022</td>\n",
       "    </tr>\n",
       "    <tr>\n",
       "      <th>Lebanon</th>\n",
       "      <td>2.39</td>\n",
       "      <td>133</td>\n",
       "      <td>2013 - 2022</td>\n",
       "    </tr>\n",
       "    <tr>\n",
       "      <th>Afghanistan</th>\n",
       "      <td>1.86</td>\n",
       "      <td>134</td>\n",
       "      <td>2013 - 2022</td>\n",
       "    </tr>\n",
       "  </tbody>\n",
       "</table>\n",
       "<p>134 rows × 3 columns</p>\n",
       "</div>"
      ],
      "text/plain": [
       "              Happines_index  Global rank Available data\n",
       "Countries                                               \n",
       "Finland                 7.80            1    2013 - 2022\n",
       "Denmark                 7.59            2    2013 - 2022\n",
       "Iceland                 7.53            3    2013 - 2022\n",
       "Israel                  7.47            4    2013 - 2022\n",
       "Netherlands             7.40            5    2013 - 2022\n",
       "...                      ...          ...            ...\n",
       "DR Congo                3.21          130    2017 - 2022\n",
       "Zimbabwe                3.20          131    2013 - 2022\n",
       "Sierra Leone            3.14          132    2013 - 2022\n",
       "Lebanon                 2.39          133    2013 - 2022\n",
       "Afghanistan             1.86          134    2013 - 2022\n",
       "\n",
       "[134 rows x 3 columns]"
      ]
     },
     "execution_count": 12,
     "metadata": {},
     "output_type": "execute_result"
    }
   ],
   "source": [
    "df"
   ]
  },
  {
   "cell_type": "code",
   "execution_count": 14,
   "id": "ac1621aa-6ccd-4adf-82b1-8ee0a7450429",
   "metadata": {
    "tags": []
   },
   "outputs": [
    {
     "data": {
      "text/plain": [
       "7.8"
      ]
     },
     "execution_count": 14,
     "metadata": {},
     "output_type": "execute_result"
    }
   ],
   "source": [
    "#get happines index for Finland\n",
    "\n",
    "df.loc[\"Finland\" ,\"Happines_index\"]"
   ]
  },
  {
   "cell_type": "code",
   "execution_count": 15,
   "id": "f97a52d1-b53a-4b50-b868-dd9ba7482bcb",
   "metadata": {
    "tags": []
   },
   "outputs": [
    {
     "data": {
      "text/html": [
       "<div>\n",
       "<style scoped>\n",
       "    .dataframe tbody tr th:only-of-type {\n",
       "        vertical-align: middle;\n",
       "    }\n",
       "\n",
       "    .dataframe tbody tr th {\n",
       "        vertical-align: top;\n",
       "    }\n",
       "\n",
       "    .dataframe thead th {\n",
       "        text-align: right;\n",
       "    }\n",
       "</style>\n",
       "<table border=\"1\" class=\"dataframe\">\n",
       "  <thead>\n",
       "    <tr style=\"text-align: right;\">\n",
       "      <th></th>\n",
       "      <th>Happines_index</th>\n",
       "      <th>Global rank</th>\n",
       "    </tr>\n",
       "  </thead>\n",
       "  <tbody>\n",
       "    <tr>\n",
       "      <th>count</th>\n",
       "      <td>134.000000</td>\n",
       "      <td>134.000000</td>\n",
       "    </tr>\n",
       "    <tr>\n",
       "      <th>mean</th>\n",
       "      <td>5.536716</td>\n",
       "      <td>67.500000</td>\n",
       "    </tr>\n",
       "    <tr>\n",
       "      <th>std</th>\n",
       "      <td>1.140036</td>\n",
       "      <td>38.826537</td>\n",
       "    </tr>\n",
       "    <tr>\n",
       "      <th>min</th>\n",
       "      <td>1.860000</td>\n",
       "      <td>1.000000</td>\n",
       "    </tr>\n",
       "    <tr>\n",
       "      <th>25%</th>\n",
       "      <td>4.755000</td>\n",
       "      <td>34.250000</td>\n",
       "    </tr>\n",
       "    <tr>\n",
       "      <th>50%</th>\n",
       "      <td>5.670000</td>\n",
       "      <td>67.500000</td>\n",
       "    </tr>\n",
       "    <tr>\n",
       "      <th>75%</th>\n",
       "      <td>6.322500</td>\n",
       "      <td>100.750000</td>\n",
       "    </tr>\n",
       "    <tr>\n",
       "      <th>max</th>\n",
       "      <td>7.800000</td>\n",
       "      <td>134.000000</td>\n",
       "    </tr>\n",
       "  </tbody>\n",
       "</table>\n",
       "</div>"
      ],
      "text/plain": [
       "       Happines_index  Global rank\n",
       "count      134.000000   134.000000\n",
       "mean         5.536716    67.500000\n",
       "std          1.140036    38.826537\n",
       "min          1.860000     1.000000\n",
       "25%          4.755000    34.250000\n",
       "50%          5.670000    67.500000\n",
       "75%          6.322500   100.750000\n",
       "max          7.800000   134.000000"
      ]
     },
     "execution_count": 15,
     "metadata": {},
     "output_type": "execute_result"
    }
   ],
   "source": [
    "#get statistics\n",
    "\n",
    "df.describe()"
   ]
  },
  {
   "cell_type": "code",
   "execution_count": 29,
   "id": "db94c329-5aa4-49e9-ab1f-6f9c5a1e3fbd",
   "metadata": {
    "tags": []
   },
   "outputs": [
    {
     "data": {
      "text/plain": [
       "Happines_index    0\n",
       "Global rank       0\n",
       "Available data    0\n",
       "dtype: int64"
      ]
     },
     "execution_count": 29,
     "metadata": {},
     "output_type": "execute_result"
    }
   ],
   "source": [
    "#check if Sudan Exists\n",
    "df.isnull().sum()"
   ]
  },
  {
   "cell_type": "code",
   "execution_count": 38,
   "id": "4d8f9dee-2e35-45b8-a67e-9dbc1def5f16",
   "metadata": {
    "tags": []
   },
   "outputs": [
    {
     "data": {
      "text/plain": [
       "Happines_index            7.8\n",
       "Global rank                 1\n",
       "Available data    2013 - 2022\n",
       "Name: Finland, dtype: object"
      ]
     },
     "execution_count": 38,
     "metadata": {},
     "output_type": "execute_result"
    }
   ],
   "source": [
    "df.loc['Finland']"
   ]
  },
  {
   "cell_type": "code",
   "execution_count": 43,
   "id": "a41a4fc3-48b2-4064-bfab-0a91d6c344ca",
   "metadata": {
    "tags": []
   },
   "outputs": [
    {
     "data": {
      "text/plain": [
       "7.8"
      ]
     },
     "execution_count": 43,
     "metadata": {},
     "output_type": "execute_result"
    }
   ],
   "source": [
    "df.loc['Finland' ,'Happines_index'].s"
   ]
  },
  {
   "cell_type": "code",
   "execution_count": 44,
   "id": "9222abd9-de02-4f9b-8513-79fc11839cc2",
   "metadata": {
    "tags": []
   },
   "outputs": [],
   "source": [
    "%matplotlib inline \n",
    "%matplotlib notebook\n",
    "\n",
    "\n",
    "import matplotlib as mpl\n",
    "import matplotlib.pyplot as plt"
   ]
  },
  {
   "cell_type": "code",
   "execution_count": 70,
   "id": "b0e2223b-8a81-4b94-b4fb-f1159572d481",
   "metadata": {
    "tags": []
   },
   "outputs": [],
   "source": [
    "df.sort_values(by='Happines_index', ascending=False, axis=0, inplace=True)\n",
    "\n",
    "top_5 = df.head(5)\n",
    "top5_happines=top_5['Happines_index']"
   ]
  },
  {
   "cell_type": "code",
   "execution_count": 62,
   "id": "64720162-a5f9-46ec-8e75-f6ade5520665",
   "metadata": {
    "tags": []
   },
   "outputs": [
    {
     "data": {
      "text/html": [
       "<div>\n",
       "<style scoped>\n",
       "    .dataframe tbody tr th:only-of-type {\n",
       "        vertical-align: middle;\n",
       "    }\n",
       "\n",
       "    .dataframe tbody tr th {\n",
       "        vertical-align: top;\n",
       "    }\n",
       "\n",
       "    .dataframe thead th {\n",
       "        text-align: right;\n",
       "    }\n",
       "</style>\n",
       "<table border=\"1\" class=\"dataframe\">\n",
       "  <thead>\n",
       "    <tr style=\"text-align: right;\">\n",
       "      <th>Countries</th>\n",
       "      <th>Finland</th>\n",
       "      <th>Denmark</th>\n",
       "      <th>Iceland</th>\n",
       "      <th>Israel</th>\n",
       "      <th>Netherlands</th>\n",
       "    </tr>\n",
       "  </thead>\n",
       "  <tbody>\n",
       "    <tr>\n",
       "      <th>Happines_index</th>\n",
       "      <td>7.8</td>\n",
       "      <td>7.59</td>\n",
       "      <td>7.53</td>\n",
       "      <td>7.47</td>\n",
       "      <td>7.4</td>\n",
       "    </tr>\n",
       "    <tr>\n",
       "      <th>Global rank</th>\n",
       "      <td>1</td>\n",
       "      <td>2</td>\n",
       "      <td>3</td>\n",
       "      <td>4</td>\n",
       "      <td>5</td>\n",
       "    </tr>\n",
       "    <tr>\n",
       "      <th>Available data</th>\n",
       "      <td>2013 - 2022</td>\n",
       "      <td>2013 - 2022</td>\n",
       "      <td>2013 - 2022</td>\n",
       "      <td>2013 - 2022</td>\n",
       "      <td>2013 - 2022</td>\n",
       "    </tr>\n",
       "  </tbody>\n",
       "</table>\n",
       "</div>"
      ],
      "text/plain": [
       "Countries           Finland      Denmark      Iceland       Israel  \\\n",
       "Happines_index          7.8         7.59         7.53         7.47   \n",
       "Global rank               1            2            3            4   \n",
       "Available data  2013 - 2022  2013 - 2022  2013 - 2022  2013 - 2022   \n",
       "\n",
       "Countries       Netherlands  \n",
       "Happines_index          7.4  \n",
       "Global rank               5  \n",
       "Available data  2013 - 2022  "
      ]
     },
     "execution_count": 62,
     "metadata": {},
     "output_type": "execute_result"
    }
   ],
   "source": [
    "#we must  transpose the dataframe using transpose() method to swap the row and columns.\n",
    "\n",
    "top5_happines.transpose()"
   ]
  },
  {
   "cell_type": "code",
   "execution_count": 71,
   "id": "51d5edab-4704-44aa-b978-0f7f86206755",
   "metadata": {
    "tags": []
   },
   "outputs": [
    {
     "data": {
      "text/plain": [
       "<AxesSubplot:xlabel='Countries'>"
      ]
     },
     "execution_count": 71,
     "metadata": {},
     "output_type": "execute_result"
    },
    {
     "data": {
      "image/png": "[encoded data removed]",
      "text/plain": [
       "<Figure size 640x480 with 1 Axes>"
      ]
     },
     "metadata": {},
     "output_type": "display_data"
    }
   ],
   "source": [
    "%matplotlib inline \n",
    "\n",
    "\n",
    "import matplotlib as mpl\n",
    "import matplotlib.pyplot as plt\n",
    "\n",
    "\n",
    "#visualize data by sing bar plot\n",
    "top5_happines.plot(kind='bar')\n",
    "# plt.title('Immigrants from China and India')\n",
    "# plt.ylabel('Number of Immigrants')\n",
    "# plt.xlabel('Years')\n",
    "\n",
    "# plt.show()"
   ]
  },
  {
   "cell_type": "code",
   "execution_count": null,
   "id": "5c2775bc-28f1-43a8-aa96-831a39761487",
   "metadata": {},
   "outputs": [],
   "source": []
  }
 ],
 "metadata": {
  "kernelspec": {
   "display_name": "Python",
   "language": "python",
   "name": "conda-env-python-py"
  },
  "language_info": {
   "codemirror_mode": {
    "name": "ipython",
    "version": 3
   },
   "file_extension": ".py",
   "mimetype": "text/x-python",
   "name": "python",
   "nbconvert_exporter": "python",
   "pygments_lexer": "ipython3",
   "version": "3.7.12"
  }
 },
 "nbformat": 4,
 "nbformat_minor": 5
}
